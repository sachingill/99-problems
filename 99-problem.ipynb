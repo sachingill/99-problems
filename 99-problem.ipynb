{
 "cells": [
  {
   "cell_type": "markdown",
   "metadata": {},
   "source": [
    "# Find the last element of a list.\n",
    "# ex [1,2,3,4,5,6] the last element is 6"
   ]
  },
  {
   "cell_type": "code",
   "execution_count": 14,
   "metadata": {},
   "outputs": [
    {
     "name": "stdout",
     "output_type": "stream",
     "text": [
      "6\n"
     ]
    },
    {
     "ename": "ValueError",
     "evalue": "The input list does not contain any elements.",
     "output_type": "error",
     "traceback": [
      "\u001b[0;31m---------------------------------------------------------------------------\u001b[0m",
      "\u001b[0;31mValueError\u001b[0m                                Traceback (most recent call last)",
      "\u001b[0;32m<ipython-input-14-32acf955c83c>\u001b[0m in \u001b[0;36m<module>\u001b[0;34m\u001b[0m\n\u001b[1;32m     16\u001b[0m \u001b[0mprint\u001b[0m\u001b[0;34m(\u001b[0m\u001b[0mls\u001b[0m\u001b[0;34m[\u001b[0m\u001b[0;34m-\u001b[0m\u001b[0;36m1\u001b[0m\u001b[0;34m]\u001b[0m\u001b[0;34m)\u001b[0m\u001b[0;34m\u001b[0m\u001b[0;34m\u001b[0m\u001b[0m\n\u001b[1;32m     17\u001b[0m \u001b[0;31m#print(last_element_loop(dict))\u001b[0m\u001b[0;34m\u001b[0m\u001b[0;34m\u001b[0m\u001b[0;34m\u001b[0m\u001b[0m\n\u001b[0;32m---> 18\u001b[0;31m \u001b[0mprint\u001b[0m\u001b[0;34m(\u001b[0m\u001b[0mlast_element_loop\u001b[0m\u001b[0;34m(\u001b[0m\u001b[0mds\u001b[0m\u001b[0;34m)\u001b[0m\u001b[0;34m)\u001b[0m\u001b[0;34m\u001b[0m\u001b[0;34m\u001b[0m\u001b[0m\n\u001b[0m",
      "\u001b[0;32m<ipython-input-14-32acf955c83c>\u001b[0m in \u001b[0;36mlast_element_loop\u001b[0;34m(list_a)\u001b[0m\n\u001b[1;32m      6\u001b[0m         \u001b[0;32mraise\u001b[0m \u001b[0mTypeError\u001b[0m\u001b[0;34m(\u001b[0m\u001b[0;34m'The argument given is not of `list` type.'\u001b[0m\u001b[0;34m)\u001b[0m\u001b[0;34m\u001b[0m\u001b[0;34m\u001b[0m\u001b[0m\n\u001b[1;32m      7\u001b[0m     \u001b[0;32mif\u001b[0m \u001b[0mlen\u001b[0m\u001b[0;34m(\u001b[0m\u001b[0mlist_a\u001b[0m\u001b[0;34m)\u001b[0m \u001b[0;34m<\u001b[0m \u001b[0;36m1\u001b[0m\u001b[0;34m:\u001b[0m\u001b[0;34m\u001b[0m\u001b[0;34m\u001b[0m\u001b[0m\n\u001b[0;32m----> 8\u001b[0;31m         \u001b[0;32mraise\u001b[0m \u001b[0mValueError\u001b[0m\u001b[0;34m(\u001b[0m\u001b[0;34m'The input list does not contain any elements.'\u001b[0m\u001b[0;34m)\u001b[0m\u001b[0;34m\u001b[0m\u001b[0;34m\u001b[0m\u001b[0m\n\u001b[0m\u001b[1;32m      9\u001b[0m     \u001b[0mlast_elem\u001b[0m \u001b[0;34m=\u001b[0m \u001b[0;32mNone\u001b[0m\u001b[0;34m\u001b[0m\u001b[0;34m\u001b[0m\u001b[0m\n\u001b[1;32m     10\u001b[0m     \u001b[0;32mfor\u001b[0m \u001b[0mitem\u001b[0m \u001b[0;32min\u001b[0m \u001b[0mlist_a\u001b[0m\u001b[0;34m:\u001b[0m\u001b[0;34m\u001b[0m\u001b[0;34m\u001b[0m\u001b[0m\n",
      "\u001b[0;31mValueError\u001b[0m: The input list does not contain any elements."
     ]
    }
   ],
   "source": [
    "ls = [1,2,3,4,5,6]\n",
    "dict = {\"a\": \"b\"}\n",
    "ds = []\n",
    "def last_element_loop(list_a):\n",
    "    if not isinstance(list_a, list):\n",
    "        raise TypeError('The argument given is not of `list` type.')\n",
    "    if len(list_a) < 1:\n",
    "        raise ValueError('The input list does not contain any elements.')\n",
    "    last_elem = None\n",
    "    for item in list_a:\n",
    "        last_elem = item\n",
    "    return last_elem\n",
    "\n",
    "last_element_loop(ls)\n",
    "\n",
    "print(ls[-1])"
   ]
  },
  {
   "cell_type": "markdown",
   "metadata": {},
   "source": [
    "Error use cases"
   ]
  },
  {
   "cell_type": "code",
   "execution_count": null,
   "metadata": {},
   "outputs": [],
   "source": [
    "print(last_element_loop(dict))\n"
   ]
  },
  {
   "cell_type": "code",
   "execution_count": null,
   "metadata": {},
   "outputs": [],
   "source": [
    "print(last_element_loop(ds))"
   ]
  },
  {
   "cell_type": "markdown",
   "metadata": {},
   "source": [
    "Find the last but one element of a list.\n",
    "ls = [1,2,3,4,5]"
   ]
  },
  {
   "cell_type": "code",
   "execution_count": 11,
   "metadata": {},
   "outputs": [
    {
     "data": {
      "text/plain": [
       "5"
      ]
     },
     "execution_count": 11,
     "metadata": {},
     "output_type": "execute_result"
    }
   ],
   "source": [
    "def second_last_elem(list):\n",
    "    last_elem = None\n",
    "    for idx in range(0,len(list)-1):\n",
    "        last_elem = list[idx]\n",
    "    return last_elem\n",
    "\n",
    "second_last_elem(ls)\n",
    "\n",
    "ls[-2]"
   ]
  },
  {
   "cell_type": "markdown",
   "metadata": {},
   "source": [
    " # Find the K'th element of a list"
   ]
  },
  {
   "cell_type": "code",
   "execution_count": 18,
   "metadata": {},
   "outputs": [
    {
     "name": "stdout",
     "output_type": "stream",
     "text": [
      "3\n"
     ]
    }
   ],
   "source": [
    "def find_kth_elem(list_a: list, k: int):\n",
    "    k_elm = None\n",
    "    for idx in range(k,k+1):\n",
    "        k_elm = list_a[idx-1]\n",
    "    return k_elm\n",
    "\n",
    "print(find_kth_elem(ls, 3))"
   ]
  },
  {
   "cell_type": "markdown",
   "metadata": {},
   "source": [
    "ls = [[1,2,3],[3,4,5],2]"
   ]
  },
  {
   "cell_type": "code",
   "execution_count": 20,
   "metadata": {},
   "outputs": [
    {
     "name": "stdout",
     "output_type": "stream",
     "text": [
      "[1, 2, 3, 3, 4, 5, 2]\n"
     ]
    }
   ],
   "source": [
    "def flatten(list_a: list):\n",
    "    if not isinstance(list_a, list):\n",
    "        raise TypeError('The argument given is not of `list` type.')\n",
    "\n",
    "    flat = []\n",
    "    for x in list_a:\n",
    "        if isinstance(x, list):\n",
    "            # If element x is a list then the initial list should be\n",
    "            # extended by the elements of list x\n",
    "            # t= flatten(x)\n",
    "            #print(type(t))\n",
    "            flat.extend(x)\n",
    "        else:\n",
    "            # Otherwise a single element is appended\n",
    "            flat.append(x)\n",
    "\n",
    "    return flat\n",
    "\n",
    "\n",
    "print(flatten([[1,2,3],[3,4,5],2]))\n",
    "\n",
    "\n"
   ]
  },
  {
   "cell_type": "markdown",
   "metadata": {},
   "source": [
    "Eliminate consecutive duplicates of list elements\n",
    "ls= [1,2,3,3,4,1,5]"
   ]
  },
  {
   "cell_type": "code",
   "execution_count": 37,
   "metadata": {},
   "outputs": [
    {
     "name": "stdout",
     "output_type": "stream",
     "text": [
      "5\n",
      "0\n",
      "fdfggdg\n",
      "1\n",
      "fdfggdg\n",
      "2\n",
      " test\n",
      "3\n",
      "fdfggdg\n",
      "4\n",
      "fdfggdg\n",
      "[1, 2, 4, 5]\n"
     ]
    }
   ],
   "source": [
    "def remove_list(list_a):\n",
    "    final_list = []\n",
    "    len1 = len(list_a)\n",
    "    print(len1)\n",
    "    for idx  in range(0, len1):\n",
    "        print(idx)\n",
    "        if (idx < len1-1 & list_a[idx] == list_a[idx+1]):\n",
    "            print(\" test\")\n",
    "            pass\n",
    "        else:\n",
    "            print(\"fdfggdg\")\n",
    "            final_list.append(list_a[idx])\n",
    "    return final_list\n",
    "\n",
    "print(remove_list([1,2,4,4,5]))"
   ]
  }
 ],
 "metadata": {
  "interpreter": {
   "hash": "e534e48711db4d1e1c48977d0d14ff85b1f16d41bcc4fdfd88268a329b3c9d66"
  },
  "kernelspec": {
   "display_name": "Python 3.7.5 64-bit",
   "language": "python",
   "name": "python3"
  },
  "language_info": {
   "codemirror_mode": {
    "name": "ipython",
    "version": 3
   },
   "file_extension": ".py",
   "mimetype": "text/x-python",
   "name": "python",
   "nbconvert_exporter": "python",
   "pygments_lexer": "ipython3",
   "version": "3.7.5"
  },
  "orig_nbformat": 4
 },
 "nbformat": 4,
 "nbformat_minor": 2
}
